{
 "cells": [
  {
   "cell_type": "code",
   "execution_count": null,
   "metadata": {
    "executionInfo": {
     "elapsed": 4113,
     "status": "ok",
     "timestamp": 1613669702318,
     "user": {
      "displayName": "Harold Brayan Arteaga Arteaga",
      "photoUrl": "https://lh3.googleusercontent.com/a-/AOh14GifuFvtfytHqsNbMuH0lLSooSCVwDhasTFeUS0Xrg=s64",
      "userId": "02881993551096447470"
     },
     "user_tz": 300
    },
    "id": "02c7cOl1Muz1"
   },
   "outputs": [],
   "source": [
    "from scipy import misc, ndimage, signal\n",
    "from sklearn.model_selection  import train_test_split\n",
    "import numpy\n",
    "import numpy as np\n",
    "import random\n",
    "import ntpath\n",
    "import os\n",
    "import pandas as pd\n",
    "import numpy as np\n",
    "import matplotlib as mpl\n",
    "import matplotlib.pyplot as plt\n",
    "import matplotlib.colors as colors\n",
    "from keras import optimizers \n",
    "from keras import regularizers\n",
    "import tensorflow as tf\n",
    "import cv2\n",
    "from time import time\n",
    "import time as tm\n",
    "import datetime\n",
    "from operator import itemgetter\n",
    "import glob\n",
    "from skimage.util.shape import view_as_blocks\n",
    "from keras.utils import np_utils\n",
    "from keras.utils import to_categorical"
   ]
  },
  {
   "cell_type": "raw",
   "metadata": {},
   "source": [
    "# USE OF CPU, WHEN IS NOT AVAILABLE THE GPU\n",
    "os.environ[\"CUDA_DEVICE_ORDER\"] = \"PCI_BUS_ID\"\n",
    "os.environ['CUDA_VISIBLE_DEVICES'] = '-1'\n",
    "if tf.test.gpu_device_name():\n",
    "    print('GPU found')\n",
    "else:\n",
    "    print(\"No GPU found\")"
   ]
  },
  {
   "cell_type": "code",
   "execution_count": null,
   "metadata": {
    "colab": {
     "base_uri": "https://localhost:8080/"
    },
    "executionInfo": {
     "elapsed": 429,
     "status": "ok",
     "timestamp": 1613669995593,
     "user": {
      "displayName": "Harold Brayan Arteaga Arteaga",
      "photoUrl": "https://lh3.googleusercontent.com/a-/AOh14GifuFvtfytHqsNbMuH0lLSooSCVwDhasTFeUS0Xrg=s64",
      "userId": "02881993551096447470"
     },
     "user_tz": 300
    },
    "id": "75dDxijENXST",
    "outputId": "5a4f55c2-90a1-4de8-f6d1-d8d436892b55"
   },
   "outputs": [],
   "source": [
    "!nvidia-smi\n",
    "#!kill PIDnumber"
   ]
  },
  {
   "cell_type": "code",
   "execution_count": null,
   "metadata": {
    "executionInfo": {
     "elapsed": 367,
     "status": "ok",
     "timestamp": 1613670301141,
     "user": {
      "displayName": "Harold Brayan Arteaga Arteaga",
      "photoUrl": "https://lh3.googleusercontent.com/a-/AOh14GifuFvtfytHqsNbMuH0lLSooSCVwDhasTFeUS0Xrg=s64",
      "userId": "02881993551096447470"
     },
     "user_tz": 300
    },
    "id": "NYErCB6FPmve"
   },
   "outputs": [],
   "source": [
    "path_folder = \"./\"\n",
    "path_img_base = './images'\n",
    "if not os.path.exists(path_img_base):\n",
    "    os.makedirs(path_img_base)"
   ]
  },
  {
   "cell_type": "code",
   "execution_count": null,
   "metadata": {
    "colab": {
     "base_uri": "https://localhost:8080/"
    },
    "executionInfo": {
     "elapsed": 937,
     "status": "ok",
     "timestamp": 1613670302585,
     "user": {
      "displayName": "Harold Brayan Arteaga Arteaga",
      "photoUrl": "https://lh3.googleusercontent.com/a-/AOh14GifuFvtfytHqsNbMuH0lLSooSCVwDhasTFeUS0Xrg=s64",
      "userId": "02881993551096447470"
     },
     "user_tz": 300
    },
    "id": "hWLL9G9yNXnR",
    "outputId": "5e22ab30-70da-4f8e-dad8-703e774fe074"
   },
   "outputs": [],
   "source": [
    "################################################## 30 original SRM FILTERS\n",
    "srm_weights = np.load(path_folder+'/SRM_Kernels1.npy') \n",
    "print (srm_weights.shape)\n",
    "################################################## bias\n",
    "biasSRM=numpy.ones(30)\n",
    "################################################## TLU ACTIVATION FUNCTION\n",
    "def Tanh3(x):\n",
    "    tanh3 = tf.keras.activations.tanh(x)*3\n",
    "    return tanh3\n",
    "##################################################"
   ]
  },
  {
   "cell_type": "code",
   "execution_count": null,
   "metadata": {
    "executionInfo": {
     "elapsed": 748,
     "status": "ok",
     "timestamp": 1613670067511,
     "user": {
      "displayName": "Harold Brayan Arteaga Arteaga",
      "photoUrl": "https://lh3.googleusercontent.com/a-/AOh14GifuFvtfytHqsNbMuH0lLSooSCVwDhasTFeUS0Xrg=s64",
      "userId": "02881993551096447470"
     },
     "user_tz": 300
    },
    "id": "UXLUQhOJNXqC"
   },
   "outputs": [],
   "source": [
    "def GBRAS_Net2():\n",
    "    tf.keras.backend.clear_session()\n",
    "    #Inputs\n",
    "    inputs = tf.keras.Input(shape=(256,256,1), name=\"input_1\")\n",
    "    #Layer 1\n",
    "    layers_ty = tf.keras.layers.Conv2D(30, (5,5), weights=[srm_weights,biasSRM], strides=(1,1), padding='same', trainable=False, activation=Tanh3, use_bias=True)(inputs)\n",
    "    layers_tn = tf.keras.layers.Conv2D(30, (5,5), weights=[srm_weights,biasSRM], strides=(1,1), padding='same', trainable=True, activation=Tanh3, use_bias=True)(inputs)\n",
    "  \n",
    "    layers1 = tf.keras.layers.add([layers_ty, layers_tn])\n",
    "    layers1 = tf.keras.layers.BatchNormalization(momentum=0.2, epsilon=0.001, center=True, scale=False, trainable=True, fused=None, renorm=False, renorm_clipping=None, renorm_momentum=0.4, adjustment=None)(layers1)\n",
    "    #Layer 2\n",
    "    layers = tf.keras.layers.DepthwiseConv2D(1)(layers1)\n",
    "    layers = tf.keras.layers.SeparableConv2D(30,(3,3), padding='same', activation=None,depth_multiplier=3)(layers) \n",
    "    layers = tf.keras.layers.ReLU(negative_slope=0.1, threshold=0)(layers)\n",
    "    layers = tf.keras.layers.BatchNormalization(momentum=0.2, epsilon=0.001, center=True, scale=False, trainable=True, fused=None, renorm=False, renorm_clipping=None, renorm_momentum=0.4, adjustment=None)(layers)\n",
    "    #Layer 3\n",
    "    layers = tf.keras.layers.DepthwiseConv2D(1)(layers)\n",
    "    layers = tf.keras.layers.SeparableConv2D(30,(3,3), padding='same', activation=None,depth_multiplier=3)(layers) \n",
    "    layers = tf.keras.layers.ReLU(negative_slope=0.1, threshold=0)(layers)\n",
    "    layers2 = tf.keras.layers.BatchNormalization(momentum=0.2, epsilon=0.001, center=True, scale=False, trainable=True, fused=None, renorm=False, renorm_clipping=None, renorm_momentum=0.4, adjustment=None)(layers)\n",
    "    skip1 =   tf.keras.layers.Add()([layers1, layers2])\n",
    "    #Layer 4\n",
    "    layers = tf.keras.layers.Conv2D(30, (3,3), strides=(1,1), activation=None, padding='same', kernel_initializer='glorot_uniform')(skip1) \n",
    "    layers = tf.keras.layers.ReLU(negative_slope=0.1, threshold=0)(layers)\n",
    "    layers = tf.keras.layers.BatchNormalization(momentum=0.2, epsilon=0.001, center=True, scale=False, trainable=True, fused=None, renorm=False, renorm_clipping=None, renorm_momentum=0.4, adjustment=None)(layers)\n",
    "    #Layer 5\n",
    "    layers = tf.keras.layers.Conv2D(30, (3,3), strides=(1,1), activation=None, padding='same', kernel_initializer='glorot_uniform')(layers)\n",
    "    layers = tf.keras.layers.ReLU(negative_slope=0.1, threshold=0)(layers)\n",
    "    layers = tf.keras.layers.BatchNormalization(momentum=0.2, epsilon=0.001, center=True, scale=False, trainable=True, fused=None, renorm=False, renorm_clipping=None, renorm_momentum=0.4, adjustment=None)(layers)\n",
    "    #Layer 6\n",
    "    layers = tf.keras.layers.AveragePooling2D((2,2), strides= (2,2))(layers)\n",
    "    #Layer 7\n",
    "    layers = tf.keras.layers.Conv2D(60, (3,3), strides=(1,1), activation=None, padding='same', kernel_initializer='glorot_uniform')(layers) \n",
    "    layers = tf.keras.layers.ReLU(negative_slope=0.1, threshold=0)(layers)\n",
    "    layers3 = tf.keras.layers.BatchNormalization(momentum=0.2, epsilon=0.001, center=True, scale=False, trainable=True, fused=None, renorm=False, renorm_clipping=None, renorm_momentum=0.4, adjustment=None)(layers)\n",
    "    #Layer 8\n",
    "    layers = tf.keras.layers.DepthwiseConv2D(1)(layers3)\n",
    "    layers = tf.keras.layers.SeparableConv2D(60,(3,3), padding='same', activation=None,depth_multiplier=3)(layers) \n",
    "    layers = tf.keras.layers.ReLU(negative_slope=0.1, threshold=0)(layers)\n",
    "    layers = tf.keras.layers.BatchNormalization(momentum=0.2, epsilon=0.001, center=True, scale=False, trainable=True, fused=None, renorm=False, renorm_clipping=None, renorm_momentum=0.4, adjustment=None)(layers)\n",
    "    #Layer 9\n",
    "    layers = tf.keras.layers.DepthwiseConv2D(1)(layers)\n",
    "    layers = tf.keras.layers.SeparableConv2D(60,(3,3), padding='same', activation=None,depth_multiplier=3)(layers) \n",
    "    layers = tf.keras.layers.ReLU(negative_slope=0.1, threshold=0)(layers)\n",
    "    layers4 = tf.keras.layers.BatchNormalization(momentum=0.2, epsilon=0.001, center=True, scale=False, trainable=True, fused=None, renorm=False, renorm_clipping=None, renorm_momentum=0.4, adjustment=None)(layers)\n",
    "    skip2 =   tf.keras.layers.Add()([layers3, layers4])\n",
    "    #Layer 10\n",
    "    layers = tf.keras.layers.Conv2D(60, (3,3), strides=(1,1), activation=None, padding='same', kernel_initializer='glorot_uniform')(skip2) \n",
    "    layers = tf.keras.layers.ReLU(negative_slope=0.1, threshold=0)(layers)\n",
    "    layers = tf.keras.layers.BatchNormalization(momentum=0.2, epsilon=0.001, center=True, scale=False, trainable=True, fused=None, renorm=False, renorm_clipping=None, renorm_momentum=0.4, adjustment=None)(layers)\n",
    "    #Layer 11\n",
    "    layers = tf.keras.layers.AveragePooling2D((2,2), strides= (2,2))(layers)\n",
    "    #Layer 12\n",
    "    layers = tf.keras.layers.Conv2D(60, (3,3), strides=(1,1), activation=None, padding='same', kernel_initializer='glorot_uniform')(layers) \n",
    "    layers = tf.keras.layers.ReLU(negative_slope=0.1, threshold=0)(layers)\n",
    "    layers = tf.keras.layers.BatchNormalization(momentum=0.2, epsilon=0.001, center=True, scale=False, trainable=True, fused=None, renorm=False, renorm_clipping=None, renorm_momentum=0.4, adjustment=None)(layers)\n",
    "    #Layer 13\n",
    "    layers = tf.keras.layers.AveragePooling2D((2,2), strides= (2,2))(layers)\n",
    "    #Layer 14\n",
    "    layers = tf.keras.layers.Conv2D(60, (3,3), strides=(1,1), activation=None, padding='same', kernel_initializer='glorot_uniform')(layers) \n",
    "    layers = tf.keras.layers.ReLU(negative_slope=0.1, threshold=0)(layers)\n",
    "    layers = tf.keras.layers.BatchNormalization(momentum=0.2, epsilon=0.001, center=True, scale=False, trainable=True, fused=None, renorm=False, renorm_clipping=None, renorm_momentum=0.4, adjustment=None)(layers)\n",
    "    #Layer 15\n",
    "    layers = tf.keras.layers.AveragePooling2D((2,2), strides= (2,2))(layers)\n",
    "    #Layer 16\n",
    "    layers = tf.keras.layers.Conv2D(30, (1,1), strides=(1,1), activation=None, padding='same', kernel_initializer='glorot_uniform')(layers) \n",
    "    layers = tf.keras.layers.ReLU(negative_slope=0.1, threshold=0)(layers)\n",
    "    layers = tf.keras.layers.BatchNormalization(momentum=0.2, epsilon=0.001, center=True, scale=False, trainable=True, fused=None, renorm=False, renorm_clipping=None, renorm_momentum=0.4, adjustment=None)(layers)\n",
    "    #Layer 17\n",
    "    layers = tf.keras.layers.Conv2D(2, (1,1), strides=(1,1), activation=None, padding='same', kernel_initializer='glorot_uniform')(layers) \n",
    "    layers = tf.keras.layers.ReLU(negative_slope=0.1, threshold=0)(layers)\n",
    "    layers = tf.keras.layers.BatchNormalization(momentum=0.2, epsilon=0.001, center=True, scale=False, trainable=True, fused=None, renorm=False, renorm_clipping=None, renorm_momentum=0.4, adjustment=None)(layers)\n",
    "    #Layer 18\n",
    "    layers = tf.keras.layers.GlobalAveragePooling2D(data_format=\"channels_last\")(layers)\n",
    "    #Layer 19\n",
    "    predictions = tf.keras.layers.Softmax(axis=1)(layers)\n",
    "    #Model generation\n",
    "    model = tf.keras.Model(inputs = inputs, outputs=predictions)\n",
    "    #Optimizer\n",
    "    optimizer=tf.keras.optimizers.Adam(lr=0.001, beta_1=0.9, beta_2=0.999, epsilon=1e-08, decay=0.0)\n",
    "    print (\"Model GBRAS-Net Generated\")\n",
    "    #Model compilation\n",
    "    model.compile(optimizer=optimizer, loss='categorical_crossentropy', metrics=['accuracy'])\n",
    "    return model"
   ]
  },
  {
   "cell_type": "code",
   "execution_count": null,
   "metadata": {
    "colab": {
     "base_uri": "https://localhost:8080/"
    },
    "executionInfo": {
     "elapsed": 1284,
     "status": "ok",
     "timestamp": 1613670104372,
     "user": {
      "displayName": "Harold Brayan Arteaga Arteaga",
      "photoUrl": "https://lh3.googleusercontent.com/a-/AOh14GifuFvtfytHqsNbMuH0lLSooSCVwDhasTFeUS0Xrg=s64",
      "userId": "02881993551096447470"
     },
     "user_tz": 300
    },
    "id": "fWuYBw76Ou2X",
    "outputId": "2476c1e3-4e2a-4ea1-f4df-28c27764a6f0"
   },
   "outputs": [],
   "source": [
    "model_untrained = GBRAS_Net2()"
   ]
  },
  {
   "cell_type": "code",
   "execution_count": null,
   "metadata": {
    "executionInfo": {
     "elapsed": 3636,
     "status": "ok",
     "timestamp": 1613670553168,
     "user": {
      "displayName": "Harold Brayan Arteaga Arteaga",
      "photoUrl": "https://lh3.googleusercontent.com/a-/AOh14GifuFvtfytHqsNbMuH0lLSooSCVwDhasTFeUS0Xrg=s64",
      "userId": "02881993551096447470"
     },
     "user_tz": 300
    },
    "id": "TDcN5A7WOu64"
   },
   "outputs": [],
   "source": [
    "path_model_trained2 = path_folder+\"/GBRAS_WOW04_BIFURCATION.hdf5\"\n",
    "model_trained2 = tf.keras.models.load_model(path_model_trained2, custom_objects={'Tanh3':Tanh3}, compile=True)"
   ]
  },
  {
   "cell_type": "code",
   "execution_count": null,
   "metadata": {
    "colab": {
     "base_uri": "https://localhost:8080/"
    },
    "executionInfo": {
     "elapsed": 6140263,
     "status": "ok",
     "timestamp": 1613676944481,
     "user": {
      "displayName": "Harold Brayan Arteaga Arteaga",
      "photoUrl": "https://lh3.googleusercontent.com/a-/AOh14GifuFvtfytHqsNbMuH0lLSooSCVwDhasTFeUS0Xrg=s64",
      "userId": "02881993551096447470"
     },
     "user_tz": 300
    },
    "id": "6gf16mOgOu9f",
    "outputId": "435ae636-a219-4332-f0f0-6ce8f609311c"
   },
   "outputs": [],
   "source": [
    "path_stego = \"/media/ia/Datos1/DocReinel/Steganalysis/H_Brayan_A_Arteaga/Frankenstein_Project/GBRAS-Net/DATABASES/BOSSbase-1.01/WOW/0.4bpp/stego\"\n",
    "path_cover = \"/media/ia/Datos1/DocReinel/Steganalysis/H_Brayan_A_Arteaga/Frankenstein_Project/GBRAS-Net/DATABASES/BOSSbase-1.01/cover\"\n",
    "\n",
    "n=256\n",
    "def load_images(path_pattern):\n",
    "    files=glob.glob(path_pattern)\n",
    "    X=[]\n",
    "    for f in sorted(files):\n",
    "        I = cv2.imread(f, cv2.IMREAD_GRAYSCALE)\n",
    "        patches = view_as_blocks(I, (n, n))\n",
    "        for i in range(patches.shape[0]):\n",
    "            for j in range(patches.shape[1]):\n",
    "                X.append( [ patches[i,j] ] )\n",
    "    X=numpy.array(X)\n",
    "    return X\n",
    "\n",
    "Xc_ = load_images(path_cover+'/*.pgm') ##COVER IMAGES\n",
    "Xs_ = load_images(path_stego+'/*.pgm') ##STEGO IMAGES\n",
    "X_  = (numpy.vstack((Xc_, Xs_)))\n",
    "Xt_ = (numpy.hstack(([0]*len(Xc_), [1]*len(Xs_))))\n",
    "Xt_ = np_utils.to_categorical(Xt_, 2)\n",
    "X_  = np.rollaxis(X_,1,4)  #channel axis shifted to last axis\n",
    "\n",
    "print(\"Total image data and labels\",X_.shape,Xt_.shape)\n",
    "#Cover hasta las 10000 ##Train hasta las 4000 ##Valid hasta de las 4000 a las 5000 ##Test de las 5000 a las 10000\n",
    "X_train = np.concatenate([X_[0:4000],X_[10000:14000]],axis=0)\n",
    "X_valid = np.concatenate([X_[4000:5000],X_[14000:15000]],axis=0)\n",
    "X_test  = np.concatenate([X_[5000:10000],X_[15000:20000]],axis=0)\n",
    "y_train = np.concatenate([Xt_[0:4000],Xt_[10000:14000]],axis=0)\n",
    "y_valid = np.concatenate([Xt_[4000:5000],Xt_[14000:15000]],axis=0)\n",
    "y_test  = np.concatenate([Xt_[5000:10000],Xt_[15000:20000]],axis=0)\n",
    "#Controled randomized data for training\n",
    "X_dat0, X_dat1, y_dat0, y_dat1 = train_test_split(X_train, y_train, test_size=0.50, random_state=64) \n",
    "X_train = np.concatenate([X_dat0,X_dat1],axis=0) \n",
    "y_train = np.concatenate([y_dat0,y_dat1],axis=0) \n",
    "print(X_train.shape)\n",
    "print(y_train.shape)\n",
    "print(X_valid.shape)\n",
    "print(y_valid.shape)\n",
    "print(X_test.shape)\n",
    "print(y_test.shape)\n"
   ]
  },
  {
   "cell_type": "code",
   "execution_count": null,
   "metadata": {
    "colab": {
     "base_uri": "https://localhost:8080/"
    },
    "executionInfo": {
     "elapsed": 6852038,
     "status": "ok",
     "timestamp": 1613683798906,
     "user": {
      "displayName": "Harold Brayan Arteaga Arteaga",
      "photoUrl": "https://lh3.googleusercontent.com/a-/AOh14GifuFvtfytHqsNbMuH0lLSooSCVwDhasTFeUS0Xrg=s64",
      "userId": "02881993551096447470"
     },
     "user_tz": 300
    },
    "id": "jYiI6g8TSPqO",
    "outputId": "bf4c87f2-f7fa-410a-8430-f9d20e1111bc"
   },
   "outputs": [],
   "source": [
    "loss,accuracy = model_untrained.evaluate(X_test,y_test,verbose=0) #Test BOSSbase 1.01 \n",
    "print(f'Loss={loss:.4f} and Accuracy={accuracy:0.3f}')\n",
    "\n",
    "loss,accuracy = model_trained2.evaluate(X_test,y_test,verbose=0) #Test BOSSbase 1.01 \n",
    "print(f'Loss={loss:.4f} and Accuracy={accuracy:0.3f}')"
   ]
  },
  {
   "cell_type": "code",
   "execution_count": null,
   "metadata": {},
   "outputs": [],
   "source": [
    "model = model_trained2"
   ]
  },
  {
   "cell_type": "code",
   "execution_count": null,
   "metadata": {
    "scrolled": true
   },
   "outputs": [],
   "source": [
    "#COVER COMO COVER\n",
    "for i in range(5000):\n",
    "    image = X_test[i,:,:,0]\n",
    "    image = np.reshape(image,(1,256,256,1))  \n",
    "    prediction1 = np.round(model.predict(image)) #cover\n",
    "    if (prediction1 == np.array([1, 0])).all():     #cover as cover\n",
    "        print(i)"
   ]
  },
  {
   "cell_type": "code",
   "execution_count": null,
   "metadata": {
    "scrolled": true
   },
   "outputs": [],
   "source": [
    "#STEGO COMO STEGO\n",
    "for i in range(5000):\n",
    "    image = X_test[5000+i,:,:,0]\n",
    "    image = np.reshape(image,(1,256,256,1))  \n",
    "    prediction2 = np.round(model.predict(image)) #stego \n",
    "    if (prediction2 == np.array([0, 1])).all():     #stego as stego\n",
    "        print(i)"
   ]
  },
  {
   "cell_type": "code",
   "execution_count": null,
   "metadata": {
    "scrolled": true
   },
   "outputs": [],
   "source": [
    "#COVER COMO STEGO\n",
    "for i in range(5000):\n",
    "    image = X_test[i,:,:,0]\n",
    "    image = np.reshape(image,(1,256,256,1))  \n",
    "    prediction1 = np.round(model.predict(image)) #cover\n",
    "    if (prediction1 == np.array([0, 1])).all():     #cover as stego\n",
    "        print(i)"
   ]
  },
  {
   "cell_type": "code",
   "execution_count": null,
   "metadata": {
    "scrolled": true
   },
   "outputs": [],
   "source": [
    "#STEGO COMO COVER\n",
    "for i in range(5000):\n",
    "    image = X_test[5000+i,:,:,0]\n",
    "    image = np.reshape(image,(1,256,256,1))  \n",
    "    prediction2 = np.round(model.predict(image)) #stego\n",
    "    if (prediction2 == np.array([1, 0])).all(): #stego as cover\n",
    "        print(i)"
   ]
  },
  {
   "cell_type": "code",
   "execution_count": null,
   "metadata": {},
   "outputs": [],
   "source": [
    "def cover_or_stego(image):\n",
    "    plt.figure(figsize=(10,10))\n",
    "    plt.imshow(image,cmap='gray')\n",
    "    plt.title(\"Image cover or stego?\")\n",
    "    plt.show()\n",
    "    image = np.reshape(image,(1,256,256,1))  \n",
    "    prediction = np.round(model.predict(image))\n",
    "    print(prediction)\n",
    "    if (prediction == np.array([1, 0])).all():\n",
    "        print(\"Prediction: COVER\")\n",
    "    else:\n",
    "        print(\"Prediction: STEGO\") "
   ]
  },
  {
   "cell_type": "code",
   "execution_count": null,
   "metadata": {
    "scrolled": true
   },
   "outputs": [],
   "source": [
    "number_image = 16\n",
    "\n",
    "#COVER data\n",
    "image = X_test[number_image,:,:,0]\n",
    "cover_or_stego(image)"
   ]
  },
  {
   "cell_type": "code",
   "execution_count": null,
   "metadata": {
    "scrolled": true
   },
   "outputs": [],
   "source": [
    "number_image = 193\n",
    "\n",
    "#STEGO data\n",
    "image = X_test[number_image+5000,:,:,0]\n",
    "cover_or_stego(image)"
   ]
  },
  {
   "cell_type": "code",
   "execution_count": null,
   "metadata": {
    "scrolled": true
   },
   "outputs": [],
   "source": [
    "for i, layer in enumerate(model_trained2.layers): \n",
    "    print(i, layer.name) "
   ]
  },
  {
   "cell_type": "code",
   "execution_count": null,
   "metadata": {
    "id": "FXJNGkM2V-fi"
   },
   "outputs": [],
   "source": [
    "# summarize filter shapes\n",
    "for layer in model_trained2.layers:\n",
    "    # check for convolutional layer\n",
    "    if 'conv' not in layer.name:\n",
    "        continue\n",
    "    if 'separable_conv2d' in layer.name: \n",
    "        continue\n",
    "    # get filter weights\n",
    "    filters, biases = layer.get_weights()\n",
    "    print(layer.name, filters.shape) "
   ]
  },
  {
   "cell_type": "code",
   "execution_count": null,
   "metadata": {
    "id": "5TtjdTwDWSyZ",
    "scrolled": true
   },
   "outputs": [],
   "source": [
    "model.summary()"
   ]
  },
  {
   "cell_type": "code",
   "execution_count": null,
   "metadata": {},
   "outputs": [],
   "source": [
    "def visualize_conv_layer_1x2(num,layer_name,image,row=1,col=2):\n",
    "    if not os.path.exists(path_images+'/'+str(num)):\n",
    "        os.makedirs(path_images+'/'+str(num))\n",
    "    \n",
    "    plt.figure(figsize=(50,50))\n",
    "    plt.imshow(image,cmap=\"gray\")\n",
    "    plt.axis(\"off\")\n",
    "    plt.savefig(path_images+'/'+str(num)+'/'+'image'+layer_name+'.eps', format='eps')\n",
    "    plt.savefig(path_images+'/'+str(num)+'/'+'image'+layer_name+'.svg', format='svg')\n",
    "    plt.savefig(path_images+'/'+str(num)+'/'+'image'+layer_name+'.pdf', format='pdf')  \n",
    "    plt.show()\n",
    "    \n",
    "    plt.figure()\n",
    "    layer_output=model.get_layer(layer_name).output\n",
    "    intermediate_model=tf.keras.models.Model(inputs=model.input,outputs=layer_output)\n",
    "    image=numpy.reshape(image,(1,256,256,1))\n",
    "    intermediate_prediction=intermediate_model.predict(image)\n",
    "    print('Shape activations maps:',intermediate_prediction.shape)\n",
    "\n",
    "    fig, (ax1, ax2) = plt.subplots(row, col, figsize=(30,30))\n",
    "    fig.figsize=(2500,2500)\n",
    "    ax1.imshow(intermediate_prediction[0, :, :, 0], cmap='gray')\n",
    "    ax1.axis(\"off\")\n",
    "    ax2.imshow(intermediate_prediction[0, :, :, 1], cmap='gray')\n",
    "    ax2.axis(\"off\")\n",
    "\n",
    "    plt.savefig(path_images+'/'+str(num)+'/'+'ACT-MAP_All_'+layer_name+'.eps', format='eps')\n",
    "    plt.savefig(path_images+'/'+str(num)+'/'+'ACT-MAP_All_'+layer_name+'.svg', format='svg')\n",
    "    plt.savefig(path_images+'/'+str(num)+'/'+'ACT-MAP_All_'+layer_name+'.pdf', format='pdf')  \n",
    "    plt.show()"
   ]
  },
  {
   "cell_type": "code",
   "execution_count": null,
   "metadata": {},
   "outputs": [],
   "source": [
    "model = model_trained2"
   ]
  },
  {
   "cell_type": "code",
   "execution_count": null,
   "metadata": {
    "scrolled": true
   },
   "outputs": [],
   "source": [
    "#Gráficas de cover como cover\n",
    "images = [71,72,75,76,77,78,79,80,81,82]\n",
    "\n",
    "### COVER IMAGE\n",
    "path_images = './images/tp_tn_fp_fn/cover_cover'\n",
    "if not os.path.exists(path_images):\n",
    "    os.makedirs(path_images)\n",
    "\n",
    "for image in images:\n",
    "    img = X_test[image]\n",
    "    visualize_conv_layer_1x2(int(image),'conv2d_9',img,1,2)\n",
    "    "
   ]
  },
  {
   "cell_type": "code",
   "execution_count": null,
   "metadata": {},
   "outputs": [],
   "source": [
    "#Gráficas de cover como stego\n",
    "images = [812,814,815,831,851,852,855,856,860,861]\n",
    "\n",
    "### COVER IMAGE\n",
    "path_images = './images/tp_tn_fp_fn/cover_stego'\n",
    "if not os.path.exists(path_images):\n",
    "    os.makedirs(path_images)\n",
    "\n",
    "for image in images:\n",
    "    img = X_test[image]\n",
    "    visualize_conv_layer_1x2(int(image),'conv2d_9',img,1,2)\n",
    "    "
   ]
  },
  {
   "cell_type": "code",
   "execution_count": null,
   "metadata": {
    "scrolled": true
   },
   "outputs": [],
   "source": [
    "#Gráficas de stego como stego\n",
    "images = [3,12,18,33,39,48,96,107,122,165]\n",
    "\n",
    "### COVER IMAGE\n",
    "path_images = './images/tp_tn_fp_fn/stego_stego'\n",
    "if not os.path.exists(path_images):\n",
    "    os.makedirs(path_images)\n",
    "\n",
    "for image in images:\n",
    "    img = X_test[image+5000]\n",
    "    visualize_conv_layer_1x2(int(image+5000),'conv2d_9',img,1,2)\n",
    "    "
   ]
  },
  {
   "cell_type": "code",
   "execution_count": null,
   "metadata": {
    "scrolled": true
   },
   "outputs": [],
   "source": [
    "#Gráficas de stego como cover\n",
    "images = [5,14,17,19,20,32,54,70,71,100]\n",
    "\n",
    "### COVER IMAGE\n",
    "path_images = './images/tp_tn_fp_fn/stego_cover'\n",
    "if not os.path.exists(path_images):\n",
    "    os.makedirs(path_images)\n",
    "\n",
    "for image in images:\n",
    "    img = X_test[image+5000]\n",
    "    visualize_conv_layer_1x2(int(image+5000),'conv2d_9',img,1,2)\n",
    "    "
   ]
  },
  {
   "cell_type": "code",
   "execution_count": null,
   "metadata": {},
   "outputs": [],
   "source": []
  }
 ],
 "metadata": {
  "colab": {
   "authorship_tag": "ABX9TyOxROqVlSxI6otH//inVsEF",
   "collapsed_sections": [],
   "mount_file_id": "1-wOT7C_E6vuMFQhhFSMsAiXf3muYkgOo",
   "name": "GBRAScongreso.ipynb",
   "provenance": []
  },
  "kernelspec": {
   "display_name": "Python 3",
   "language": "python",
   "name": "python3"
  },
  "language_info": {
   "codemirror_mode": {
    "name": "ipython",
    "version": 3
   },
   "file_extension": ".py",
   "mimetype": "text/x-python",
   "name": "python",
   "nbconvert_exporter": "python",
   "pygments_lexer": "ipython3",
   "version": "3.8.1"
  }
 },
 "nbformat": 4,
 "nbformat_minor": 1
}
