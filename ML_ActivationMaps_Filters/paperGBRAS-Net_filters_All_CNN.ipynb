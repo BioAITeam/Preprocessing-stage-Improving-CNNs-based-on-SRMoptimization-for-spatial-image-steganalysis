{
 "cells": [
  {
   "cell_type": "code",
   "execution_count": null,
   "metadata": {
    "executionInfo": {
     "elapsed": 4113,
     "status": "ok",
     "timestamp": 1613669702318,
     "user": {
      "displayName": "Harold Brayan Arteaga Arteaga",
      "photoUrl": "https://lh3.googleusercontent.com/a-/AOh14GifuFvtfytHqsNbMuH0lLSooSCVwDhasTFeUS0Xrg=s64",
      "userId": "02881993551096447470"
     },
     "user_tz": 300
    },
    "id": "02c7cOl1Muz1"
   },
   "outputs": [],
   "source": [
    "from scipy import misc, ndimage, signal\n",
    "from sklearn.model_selection  import train_test_split\n",
    "import numpy\n",
    "import numpy as np\n",
    "import random\n",
    "import ntpath\n",
    "import os\n",
    "import pandas as pd\n",
    "import numpy as np\n",
    "import matplotlib as mpl\n",
    "import matplotlib.pyplot as plt\n",
    "import matplotlib.colors as colors\n",
    "from keras import optimizers \n",
    "from keras import regularizers\n",
    "import tensorflow as tf\n",
    "import cv2\n",
    "from time import time\n",
    "import time as tm\n",
    "import datetime\n",
    "from operator import itemgetter\n",
    "import glob\n",
    "from skimage.util.shape import view_as_blocks\n",
    "from keras.utils import np_utils\n",
    "from keras.utils import to_categorical"
   ]
  },
  {
   "cell_type": "raw",
   "metadata": {},
   "source": [
    "#USE OF CPU, WHEN IS NOT AVAILABLE THE GPU\n",
    "os.environ[\"CUDA_DEVICE_ORDER\"] = \"PCI_BUS_ID\"\n",
    "os.environ['CUDA_VISIBLE_DEVICES'] = '-1'\n",
    "if tf.test.gpu_device_name():\n",
    "    print('GPU found')\n",
    "else:\n",
    "    print(\"No GPU found\")"
   ]
  },
  {
   "cell_type": "code",
   "execution_count": null,
   "metadata": {
    "colab": {
     "base_uri": "https://localhost:8080/"
    },
    "executionInfo": {
     "elapsed": 429,
     "status": "ok",
     "timestamp": 1613669995593,
     "user": {
      "displayName": "Harold Brayan Arteaga Arteaga",
      "photoUrl": "https://lh3.googleusercontent.com/a-/AOh14GifuFvtfytHqsNbMuH0lLSooSCVwDhasTFeUS0Xrg=s64",
      "userId": "02881993551096447470"
     },
     "user_tz": 300
    },
    "id": "75dDxijENXST",
    "outputId": "5a4f55c2-90a1-4de8-f6d1-d8d436892b55"
   },
   "outputs": [],
   "source": [
    "!nvidia-smi\n",
    "#!kill PIDnumber"
   ]
  },
  {
   "cell_type": "code",
   "execution_count": null,
   "metadata": {
    "executionInfo": {
     "elapsed": 367,
     "status": "ok",
     "timestamp": 1613670301141,
     "user": {
      "displayName": "Harold Brayan Arteaga Arteaga",
      "photoUrl": "https://lh3.googleusercontent.com/a-/AOh14GifuFvtfytHqsNbMuH0lLSooSCVwDhasTFeUS0Xrg=s64",
      "userId": "02881993551096447470"
     },
     "user_tz": 300
    },
    "id": "NYErCB6FPmve"
   },
   "outputs": [],
   "source": [
    "path_folder = \"./\"\n",
    "path_img_base = './images'\n",
    "if not os.path.exists(path_img_base):\n",
    "    os.makedirs(path_img_base)"
   ]
  },
  {
   "cell_type": "code",
   "execution_count": null,
   "metadata": {
    "colab": {
     "base_uri": "https://localhost:8080/"
    },
    "executionInfo": {
     "elapsed": 937,
     "status": "ok",
     "timestamp": 1613670302585,
     "user": {
      "displayName": "Harold Brayan Arteaga Arteaga",
      "photoUrl": "https://lh3.googleusercontent.com/a-/AOh14GifuFvtfytHqsNbMuH0lLSooSCVwDhasTFeUS0Xrg=s64",
      "userId": "02881993551096447470"
     },
     "user_tz": 300
    },
    "id": "hWLL9G9yNXnR",
    "outputId": "5e22ab30-70da-4f8e-dad8-703e774fe074"
   },
   "outputs": [],
   "source": [
    "################################################## 30 original SRM FILTERS\n",
    "srm_weights = np.load(path_folder+'/SRM_Kernels1.npy') \n",
    "print (srm_weights.shape)\n",
    "################################################## bias\n",
    "biasSRM=numpy.ones(30)\n",
    "################################################## TLU ACTIVATION FUNCTION\n",
    "def Tanh3(x):\n",
    "    tanh3 = tf.keras.activations.tanh(x)*3\n",
    "    return tanh3\n",
    "##################################################"
   ]
  },
  {
   "cell_type": "code",
   "execution_count": null,
   "metadata": {},
   "outputs": [],
   "source": [
    "path_model = path_folder+\"../Trained_models_SRMbifurcation/GBRAS-Net_WOW04_SRMbifurcation.hdf5\"\n",
    "model_GBRAS = tf.keras.models.load_model(path_model, custom_objects={'Tanh3':Tanh3}, compile=True)\n",
    "\n",
    "path_model = path_folder+\"../Trained_models_SRMbifurcation/VGG16stego_WOW04_SRMbifurcation.hdf5\"\n",
    "model_VGG16 = tf.keras.models.load_model(path_model, custom_objects={'Tanh3':Tanh3}, compile=True)\n",
    "\n",
    "path_model = path_folder+\"../Trained_models_SRMbifurcation/VGG19stego_WOW04_SRMbifurcation.hdf5\"\n",
    "model_VGG19 = tf.keras.models.load_model(path_model, custom_objects={'Tanh3':Tanh3}, compile=True)\n",
    "\n",
    "path_model = path_folder+\"../Trained_models_SRMbifurcation/YEDROUDJ-Net_WOW04_SRMbifurcation.hdf5\"\n",
    "model_YEDROUDJ = tf.keras.models.load_model(path_model, custom_objects={'Tanh3':Tanh3}, compile=True)\n",
    "\n",
    "path_model = path_folder+\"../Trained_models_SRMbifurcation/YE-Net_WOW04_SRMbifurcation.hdf5\"\n",
    "model_YE = tf.keras.models.load_model(path_model, custom_objects={'Tanh3':Tanh3}, compile=True)\n",
    "\n",
    "path_model = path_folder+\"../Trained_models_SRMbifurcation/XU-Net_WOW04_SRMbifurcation.hdf5\"\n",
    "model_XU = tf.keras.models.load_model(path_model, custom_objects={'Tanh3':Tanh3}, compile=True)\n"
   ]
  },
  {
   "cell_type": "code",
   "execution_count": null,
   "metadata": {
    "colab": {
     "base_uri": "https://localhost:8080/"
    },
    "executionInfo": {
     "elapsed": 6140263,
     "status": "ok",
     "timestamp": 1613676944481,
     "user": {
      "displayName": "Harold Brayan Arteaga Arteaga",
      "photoUrl": "https://lh3.googleusercontent.com/a-/AOh14GifuFvtfytHqsNbMuH0lLSooSCVwDhasTFeUS0Xrg=s64",
      "userId": "02881993551096447470"
     },
     "user_tz": 300
    },
    "id": "6gf16mOgOu9f",
    "outputId": "435ae636-a219-4332-f0f0-6ce8f609311c"
   },
   "outputs": [],
   "source": [
    "path_stego = \"/media/ia/Datos1/DocReinel/Steganalysis/H_Brayan_A_Arteaga/Frankenstein_Project/GBRAS-Net/DATABASES/BOSSbase-1.01/WOW/0.4bpp/stego\"\n",
    "path_cover = \"/media/ia/Datos1/DocReinel/Steganalysis/H_Brayan_A_Arteaga/Frankenstein_Project/GBRAS-Net/DATABASES/BOSSbase-1.01/cover\"\n",
    "\n",
    "n=256\n",
    "def load_images(path_pattern):\n",
    "    files=glob.glob(path_pattern)\n",
    "    X=[]\n",
    "    for f in sorted(files):\n",
    "        I = cv2.imread(f, cv2.IMREAD_GRAYSCALE)\n",
    "        patches = view_as_blocks(I, (n, n))\n",
    "        for i in range(patches.shape[0]):\n",
    "            for j in range(patches.shape[1]):\n",
    "                X.append( [ patches[i,j] ] )\n",
    "    X=numpy.array(X)\n",
    "    return X\n",
    "\n",
    "Xc_ = load_images(path_cover+'/*.pgm') ##COVER IMAGES\n",
    "Xs_ = load_images(path_stego+'/*.pgm') ##STEGO IMAGES\n",
    "X_  = (numpy.vstack((Xc_, Xs_)))\n",
    "Xt_ = (numpy.hstack(([0]*len(Xc_), [1]*len(Xs_))))\n",
    "Xt_ = np_utils.to_categorical(Xt_, 2)\n",
    "X_  = np.rollaxis(X_,1,4)  #channel axis shifted to last axis\n",
    "\n",
    "print(\"Total image data and labels\",X_.shape,Xt_.shape)\n",
    "#Cover hasta las 10000 ##Train hasta las 4000 ##Valid hasta de las 4000 a las 5000 ##Test de las 5000 a las 10000\n",
    "X_train = np.concatenate([X_[0:4000],X_[10000:14000]],axis=0)\n",
    "X_valid = np.concatenate([X_[4000:5000],X_[14000:15000]],axis=0)\n",
    "X_test  = np.concatenate([X_[5000:10000],X_[15000:20000]],axis=0)\n",
    "y_train = np.concatenate([Xt_[0:4000],Xt_[10000:14000]],axis=0)\n",
    "y_valid = np.concatenate([Xt_[4000:5000],Xt_[14000:15000]],axis=0)\n",
    "y_test  = np.concatenate([Xt_[5000:10000],Xt_[15000:20000]],axis=0)\n",
    "#Controled randomized data for training\n",
    "X_dat0, X_dat1, y_dat0, y_dat1 = train_test_split(X_train, y_train, test_size=0.50, random_state=64) \n",
    "X_train = np.concatenate([X_dat0,X_dat1],axis=0) \n",
    "y_train = np.concatenate([y_dat0,y_dat1],axis=0) \n",
    "print(X_train.shape)\n",
    "print(y_train.shape)\n",
    "print(X_valid.shape)\n",
    "print(y_valid.shape)\n",
    "print(X_test.shape)\n",
    "print(y_test.shape)\n"
   ]
  },
  {
   "cell_type": "code",
   "execution_count": null,
   "metadata": {
    "colab": {
     "base_uri": "https://localhost:8080/"
    },
    "executionInfo": {
     "elapsed": 6852038,
     "status": "ok",
     "timestamp": 1613683798906,
     "user": {
      "displayName": "Harold Brayan Arteaga Arteaga",
      "photoUrl": "https://lh3.googleusercontent.com/a-/AOh14GifuFvtfytHqsNbMuH0lLSooSCVwDhasTFeUS0Xrg=s64",
      "userId": "02881993551096447470"
     },
     "user_tz": 300
    },
    "id": "jYiI6g8TSPqO",
    "outputId": "bf4c87f2-f7fa-410a-8430-f9d20e1111bc"
   },
   "outputs": [],
   "source": [
    "loss,accuracy = model_GBRAS.evaluate(X_test,y_test,verbose=0) #Test BOSSbase 1.01 \n",
    "print(f'Loss={loss:.4f} and Accuracy={accuracy:0.3f}')\n",
    "\n",
    "loss,accuracy = model_VGG16.evaluate(X_test,y_test,verbose=0) #Test BOSSbase 1.01 \n",
    "print(f'Loss={loss:.4f} and Accuracy={accuracy:0.3f}')\n",
    "\n",
    "loss,accuracy = model_VGG19.evaluate(X_test,y_test,verbose=0) #Test BOSSbase 1.01 \n",
    "print(f'Loss={loss:.4f} and Accuracy={accuracy:0.3f}')\n",
    "\n",
    "loss,accuracy = model_YEDROUDJ.evaluate(X_test,y_test,verbose=0) #Test BOSSbase 1.01 \n",
    "print(f'Loss={loss:.4f} and Accuracy={accuracy:0.3f}')\n",
    "\n",
    "loss,accuracy = model_YE.evaluate(X_test,y_test,verbose=0) #Test BOSSbase 1.01 \n",
    "print(f'Loss={loss:.4f} and Accuracy={accuracy:0.3f}')\n",
    "\n",
    "loss,accuracy = model_XU.evaluate(X_test,y_test,verbose=0) #Test BOSSbase 1.01 \n",
    "print(f'Loss={loss:.4f} and Accuracy={accuracy:0.3f}')\n"
   ]
  },
  {
   "cell_type": "code",
   "execution_count": null,
   "metadata": {},
   "outputs": [],
   "source": [
    "def display_filters(w, figsize=(15,15)):\n",
    "    plt.figure(figsize=figsize)\n",
    "    w = (w-np.min(w))/(np.max(w)-np.min(w))\n",
    "    cont=0\n",
    "    for i in range(w.shape[-1]):\n",
    "        for j in range(w.shape[-2]):\n",
    "            cont=cont+1\n",
    "            plt.subplot(w.shape[-2],w.shape[-1],cont)\n",
    "            plt.imshow(w[:,:,0,i], interpolation=\"none\", cmap='gray')\n",
    "            plt.axis(\"off\")"
   ]
  },
  {
   "cell_type": "code",
   "execution_count": null,
   "metadata": {},
   "outputs": [],
   "source": [
    "models = [model_GBRAS,model_VGG16,model_VGG19,model_YEDROUDJ,model_YE,model_XU]"
   ]
  },
  {
   "cell_type": "code",
   "execution_count": null,
   "metadata": {},
   "outputs": [],
   "source": [
    "models_name = [\"model_GBRAS\",\"model_VGG16\",\"model_VGG19\",\"model_YEDROUDJ\",\"model_YE\",\"model_XU\"]"
   ]
  },
  {
   "cell_type": "code",
   "execution_count": null,
   "metadata": {
    "scrolled": true
   },
   "outputs": [],
   "source": [
    "path_lf = './images/learned_filters'\n",
    "if not os.path.exists(path_lf):\n",
    "    os.makedirs(path_lf)\n",
    "    \n",
    "iter = 0\n",
    "\n",
    "for m in models:\n",
    "    model = m\n",
    "    w1 = model.get_weights()[2]\n",
    "    print (w1.shape)\n",
    "    type(display_filters(w1))\n",
    "    \n",
    "    print(w1[:,:,0,0])\n",
    "    \n",
    "    name = models_name[iter]\n",
    "    np.save(path_lf+'/SRM_learned_filters_'+name,w1) \n",
    "    \n",
    "    iter = iter+1"
   ]
  },
  {
   "cell_type": "code",
   "execution_count": null,
   "metadata": {},
   "outputs": [],
   "source": [
    "path_img_base = './images/learned_filters_graph'\n",
    "if not os.path.exists(path_img_base):\n",
    "    os.makedirs(path_img_base)"
   ]
  },
  {
   "cell_type": "code",
   "execution_count": null,
   "metadata": {},
   "outputs": [],
   "source": [
    "iter = 0\n",
    "for path in glob.glob(path_lf+\"/*.npy\"):\n",
    "    srm_weights = np.load(path)\n",
    "    name = models_name[iter]\n",
    "    def display_filters(w, figsize=(30,30)):\n",
    "        plt.figure(figsize=figsize)\n",
    "        w = (w-np.min(w))/(np.max(w)-np.min(w))\n",
    "        cont=0\n",
    "        for i in range(w.shape[-1]):\n",
    "            for j in range(w.shape[-2]):\n",
    "                cont=cont+1\n",
    "                plt.subplot(5,6,cont)\n",
    "                plt.imshow(w[:,:,0,i], interpolation=\"none\", cmap='gray')\n",
    "                plt.axis(\"off\")\n",
    "                plt.savefig(path_img_base+'/SRM_'+name+'.pdf', format='pdf') \n",
    "                plt.savefig(path_img_base+'/SRM_'+name+'.svg', format='svg') \n",
    "    \n",
    "    iter = iter+1\n",
    "    display_filters(srm_weights)\n",
    "    print(srm_weights.shape)  "
   ]
  },
  {
   "cell_type": "code",
   "execution_count": null,
   "metadata": {
    "scrolled": true
   },
   "outputs": [],
   "source": [
    "srm_weights = np.load('SRM_Kernels1.npy')\n",
    "name = \"original\"\n",
    "def display_filters(w, figsize=(30,30)):\n",
    "    plt.figure(figsize=figsize)\n",
    "    w = (w-np.min(w))/(np.max(w)-np.min(w))\n",
    "    cont=0\n",
    "    for i in range(w.shape[-1]):\n",
    "        for j in range(w.shape[-2]):\n",
    "            cont=cont+1\n",
    "            plt.subplot(5,6,cont)\n",
    "            plt.imshow(w[:,:,0,i], interpolation=\"none\", cmap='gray')\n",
    "            plt.axis(\"off\")\n",
    "            plt.savefig(path_img_base+'/SRM_'+name+'.pdf', format='pdf') \n",
    "            plt.savefig(path_img_base+'/SRM_'+name+'.svg', format='svg') \n",
    "                \n",
    "display_filters(srm_weights)\n",
    "print(srm_weights.shape)  "
   ]
  },
  {
   "cell_type": "code",
   "execution_count": null,
   "metadata": {},
   "outputs": [],
   "source": []
  }
 ],
 "metadata": {
  "colab": {
   "authorship_tag": "ABX9TyOxROqVlSxI6otH//inVsEF",
   "collapsed_sections": [],
   "mount_file_id": "1-wOT7C_E6vuMFQhhFSMsAiXf3muYkgOo",
   "name": "GBRAScongreso.ipynb",
   "provenance": []
  },
  "kernelspec": {
   "display_name": "Python 3",
   "language": "python",
   "name": "python3"
  },
  "language_info": {
   "codemirror_mode": {
    "name": "ipython",
    "version": 3
   },
   "file_extension": ".py",
   "mimetype": "text/x-python",
   "name": "python",
   "nbconvert_exporter": "python",
   "pygments_lexer": "ipython3",
   "version": "3.8.1"
  }
 },
 "nbformat": 4,
 "nbformat_minor": 1
}
